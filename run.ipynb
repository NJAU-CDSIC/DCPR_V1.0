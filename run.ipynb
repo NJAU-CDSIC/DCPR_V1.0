{
 "cells": [
  {
   "cell_type": "code",
   "execution_count": 1,
   "id": "91ee7d55",
   "metadata": {},
   "outputs": [],
   "source": [
    "# -*- coding: utf-8 -*-\n",
    "import os\n",
    "os.environ['TF_CPP_MIN_LOG_LEVEL'] = '2'\n",
    "import json\n",
    "import pickle\n",
    "import numpy as np\n",
    "import pandas as pd\n",
    "from types import SimpleNamespace\n",
    "from argparse import ArgumentParser, ArgumentDefaultsHelpFormatter\n",
    "import tensorflow as tf\n",
    "from DCPR_codes.data_shuffle import shuffle_time_series\n",
    "from DCPR_codes.preprocess import load_and_preprocess_data\n",
    "from DCPR_codes.base import model_train_single\n",
    "from DCPR_codes.result import get_corrected_phase\n",
    "from Visualization.Scripts import batch_process\n",
    "from DCPR_codes.make_dir import make_dir_all\n"
   ]
  },
  {
   "cell_type": "code",
   "execution_count": 2,
   "id": "fb82ff31",
   "metadata": {},
   "outputs": [],
   "source": [
    "\n",
    "def run_pipeline(args):\n",
    "\n",
    "    make_dir_all(args.O)\n",
    "    processed_data = load_and_preprocess_data(args.X, args.V, args.S, args.O)\n",
    "    predicted_hours, last_observed = model_train_single(processed_data,[args.loss_parameters])\n",
    "    adjusted_times, ground_truth_times = get_corrected_phase(predicted_hours, last_observed, processed_data,label='median',correct_way='start_phase',folder_name=args.O)\n",
    "    analysis_groups = [{'tissue': 'GSE161566','condition': 'GSE161566','replicate': 'per1','true_times': {'DCPR': ground_truth_times},'pred_times': {'DCPR': adjusted_times}}]\n",
    "    AUC_values, median_absolute_errors = batch_process(analysis_groups, save_base_path=args.O)\n",
    "    \n"
   ]
  },
  {
   "cell_type": "code",
   "execution_count": 1,
   "id": "d126ae92",
   "metadata": {},
   "outputs": [
    {
     "name": "stdout",
     "output_type": "stream",
     "text": [
      "---------------------training--------------------\n",
      "-----------------------end--------------------\n",
      "Pipeline completed. AUC: 0.830, MedAE: 0.907\n"
     ]
    }
   ],
   "source": [
    "if __name__ == \"__main__\":\n",
    "    parser = ArgumentParser(formatter_class=ArgumentDefaultsHelpFormatter)\n",
    "    parser.add_argument('--X', default='./Datasets/Real datasets/GEO datasets/GSE161566.csv')\n",
    "    parser.add_argument('--V', default='./Datasets/Real datasets/GEO datasets/GSE161566_time.csv')\n",
    "    parser.add_argument('--S', default='./Supplementary files/Seed genes/GSE161566_seed_genes.xlsx')\n",
    "    parser.add_argument('--O', default='./results_final')\n",
    "    parser.add_argument('--loss_parameters', nargs='+', type=int,default=[0, 0, 0, 0, 0, 1, 0, 0, 0, 1, 0, 0, 0, 1, 1, 1])\n",
    "    args = parser.parse_known_args()[0] \n",
    "    run_pipeline(args)\n"
   ]
  },
  {
   "cell_type": "code",
   "execution_count": null,
   "id": "dfd4cdbd",
   "metadata": {},
   "outputs": [],
   "source": []
  },
  {
   "cell_type": "code",
   "execution_count": null,
   "id": "4c6e5879",
   "metadata": {},
   "outputs": [],
   "source": []
  },
  {
   "cell_type": "code",
   "execution_count": null,
   "id": "9036bc01",
   "metadata": {},
   "outputs": [],
   "source": []
  },
  {
   "cell_type": "code",
   "execution_count": null,
   "id": "782f04c7",
   "metadata": {},
   "outputs": [],
   "source": []
  }
 ],
 "metadata": {
  "kernelspec": {
   "display_name": "Python 3 (ipykernel)",
   "language": "python",
   "name": "python3"
  },
  "language_info": {
   "codemirror_mode": {
    "name": "ipython",
    "version": 3
   },
   "file_extension": ".py",
   "mimetype": "text/x-python",
   "name": "python",
   "nbconvert_exporter": "python",
   "pygments_lexer": "ipython3",
   "version": "3.7.15"
  }
 },
 "nbformat": 4,
 "nbformat_minor": 5
}
